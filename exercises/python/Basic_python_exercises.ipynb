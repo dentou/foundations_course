{
 "cells": [
  {
   "cell_type": "markdown",
   "metadata": {},
   "source": [
    "## Python Exercises <br>\n",
    "The goal of this assignment is to get you familiarized with basic python functionalities which were discussed in the class. \n",
    "You will have to apply the concepts taught in class today and feel free to go through the class notebook or the other sources mentioned in the notebook to gain more clarity of the concepts. <br>\n",
    "You will have to submit a pdf copy of the notebook in slack and the submission deadline will be announced to you in class. To submit, either print the page in pdf format or you can also use the 'download as' option in the 'file' menu(you may face some errors). <br>\n",
    "\n",
    "__Practise makes a man perfect!!!__ So lets get started with the exercise problems. <br>\n"
   ]
  },
  {
   "cell_type": "markdown",
   "metadata": {},
   "source": [
    "Write a Python program to get the Python version you are using."
   ]
  },
  {
   "cell_type": "code",
   "execution_count": 1,
   "metadata": {},
   "outputs": [
    {
     "data": {
      "text/plain": [
       "'3.5.2 (default, Oct  8 2019, 13:06:37) \\n[GCC 5.4.0 20160609]'"
      ]
     },
     "execution_count": 1,
     "metadata": {},
     "output_type": "execute_result"
    }
   ],
   "source": [
    "import sys\n",
    "import math\n",
    "import functools\n",
    "from operator import itemgetter\n",
    "sys.version"
   ]
  },
  {
   "cell_type": "markdown",
   "metadata": {},
   "source": [
    "Write a Python program which accepts the radius of a circle from the user and compute the area. (Use math library)"
   ]
  },
  {
   "cell_type": "code",
   "execution_count": 2,
   "metadata": {},
   "outputs": [
    {
     "name": "stdout",
     "output_type": "stream",
     "text": [
      "Enter radius: 5\n"
     ]
    },
    {
     "data": {
      "text/plain": [
       "78.53981633974483"
      ]
     },
     "execution_count": 2,
     "metadata": {},
     "output_type": "execute_result"
    }
   ],
   "source": [
    "radius = float(input(\"Enter radius: \"))\n",
    "area = math.pi * radius ** 2\n",
    "area"
   ]
  },
  {
   "cell_type": "markdown",
   "metadata": {},
   "source": [
    "Write a Python program to concatenate all elements in a list into a string and return it."
   ]
  },
  {
   "cell_type": "code",
   "execution_count": 3,
   "metadata": {},
   "outputs": [
    {
     "data": {
      "text/plain": [
       "'123'"
      ]
     },
     "execution_count": 3,
     "metadata": {},
     "output_type": "execute_result"
    }
   ],
   "source": [
    "def string_concat(p_list):\n",
    "    return \"\".join(map(str, p_list))\n",
    "    \n",
    "    \n",
    "string_concat([1, 2, 3])"
   ]
  },
  {
   "cell_type": "markdown",
   "metadata": {},
   "source": [
    "Write a Python program to calculate the area of a trapezoid. <br>\n",
    "Test Data <br>\n",
    "Height : 5<br>\n",
    "Base, first value : 5<br>\n",
    "Base, second value : 6<br>\n",
    "Expected Output: Area is : 27.5<br>"
   ]
  },
  {
   "cell_type": "code",
   "execution_count": 4,
   "metadata": {},
   "outputs": [
    {
     "name": "stdout",
     "output_type": "stream",
     "text": [
      "Height: 5\n",
      "Base, first value: 5\n",
      "Base, second value: 6\n",
      "Area is 27.5\n"
     ]
    }
   ],
   "source": [
    "def area(height, base_1, base_2):\n",
    "    return (base_1 + base_2) * height / 2\n",
    "\n",
    "\n",
    "height = float(input(\"Height: \"))\n",
    "base_1 = float(input(\"Base, first value: \"))\n",
    "base_2 = float(input(\"Base, second value: \"))\n",
    "print(\"Area is {0:.1f}\".format(area(5, 6, 5)))"
   ]
  },
  {
   "cell_type": "markdown",
   "metadata": {},
   "source": [
    "Write a Python program to remove and print every third number from a list of 50 natural numbers until the list cannot be reduced any further."
   ]
  },
  {
   "cell_type": "code",
   "execution_count": 5,
   "metadata": {},
   "outputs": [
    {
     "name": "stdout",
     "output_type": "stream",
     "text": [
      "2 5 8 11 14 17 20 23 26 29 32 35 38 41 44 47\n"
     ]
    }
   ],
   "source": [
    "def remove_third(p_list):\n",
    "    thirds = p_list[2::3]\n",
    "    del p_list[2::3]\n",
    "    return thirds\n",
    "\n",
    "    \n",
    "l = list(range(50))\n",
    "thirds = remove_third(l)\n",
    "print(*thirds)"
   ]
  },
  {
   "cell_type": "markdown",
   "metadata": {},
   "source": [
    "Write a Python program to print the following text, convert the string to a list and print all the words and their frequencies <br>\n",
    "__\"Probability is the measure of the likelihood that an event will occur. Probability is quantified as a number between 0 and 1, where, loosely speaking, 0 indicates impossibility and 1 indicates certainty. The higher the probability of an event, the more likely it is that the event will occur.\"__"
   ]
  },
  {
   "cell_type": "code",
   "execution_count": 6,
   "metadata": {},
   "outputs": [
    {
     "data": {
      "text/plain": [
       "{'a': 1,\n",
       " 'an': 2,\n",
       " 'and': 2,\n",
       " 'as': 1,\n",
       " 'between': 1,\n",
       " 'certainty': 1,\n",
       " 'event': 3,\n",
       " 'higher': 1,\n",
       " 'impossibility': 1,\n",
       " 'indicates': 2,\n",
       " 'is': 3,\n",
       " 'it': 1,\n",
       " 'likelihood': 1,\n",
       " 'likely': 1,\n",
       " 'loosely': 1,\n",
       " 'measure': 1,\n",
       " 'more': 1,\n",
       " 'number': 1,\n",
       " 'occur': 2,\n",
       " 'of': 2,\n",
       " 'probability': 3,\n",
       " 'quantified': 1,\n",
       " 'speaking': 1,\n",
       " 'that': 2,\n",
       " 'the': 6,\n",
       " 'where': 1,\n",
       " 'will': 2}"
      ]
     },
     "execution_count": 6,
     "metadata": {},
     "output_type": "execute_result"
    }
   ],
   "source": [
    "text = \"Probability is the measure of the likelihood that an event will occur. \\\n",
    "Probability is quantified as a number between 0 and 1, where, loosely speaking, \\\n",
    "0 indicates impossibility and 1 indicates certainty. \\\n",
    "The higher the probability of an event, the more likely it is that the event will occur.\"\n",
    "\n",
    "s_list = text.split(\" \")\n",
    "s_list = [s.strip(\",.[]()\").lower() for s in s_list]\n",
    "s_dict = {}\n",
    "\n",
    "for s in s_list:\n",
    "    if s.isalpha():\n",
    "        s_dict[s] = s_dict.get(s, 0) + 1\n",
    "    \n",
    "s_dict"
   ]
  },
  {
   "cell_type": "markdown",
   "metadata": {},
   "source": [
    "Write a Python program to reverse the digits of a given number and add it to the original, If the sum is not a palindrome repeat this procedure. <br>\n",
    "Note: A palindrome is a word, number, or other sequence of characters which reads the same backward as forward, such as madam or racecar."
   ]
  },
  {
   "cell_type": "code",
   "execution_count": 7,
   "metadata": {},
   "outputs": [
    {
     "data": {
      "text/plain": [
       "4444444"
      ]
     },
     "execution_count": 7,
     "metadata": {},
     "output_type": "execute_result"
    }
   ],
   "source": [
    "def is_equal(a, b, tolerance=1e-10):\n",
    "    return abs(a - b) <= tolerance\n",
    "\n",
    "\n",
    "def num_reverse(num):\n",
    "    return type(num)(str(num)[::-1])\n",
    "\n",
    "\n",
    "def is_palindrome(num):\n",
    "    return is_equal(num, num_reverse(num))\n",
    "\n",
    "\n",
    "def palindrome_add(num):\n",
    "    result = num\n",
    "    while True:\n",
    "        result += num_reverse(result)\n",
    "        if is_palindrome(result):\n",
    "            break\n",
    "            \n",
    "    return result\n",
    "                \n",
    "\n",
    "palindrome_add(2312312)        "
   ]
  },
  {
   "cell_type": "markdown",
   "metadata": {},
   "source": [
    "Write a Python program to generate a list of squares of numbers between 1 and 20 (both nos included) and print ONLY the first and last 5 elements."
   ]
  },
  {
   "cell_type": "code",
   "execution_count": 8,
   "metadata": {},
   "outputs": [
    {
     "name": "stdout",
     "output_type": "stream",
     "text": [
      "First 5s: [4, 9, 16, 25, 36]\n",
      "Last 5s: [225, 256, 289, 324, 361]\n"
     ]
    }
   ],
   "source": [
    "squares = [x ** 2 for x in range(2, 20)]\n",
    "print(\"First 5s: {0}\\nLast 5s: {1}\".format(squares[:5], squares[-5:]))"
   ]
  },
  {
   "cell_type": "markdown",
   "metadata": {},
   "source": [
    "Write a Python program to split the following sentence based on white space and then extract the first letter of each split string. <br>\n",
    "__\"Jack of all trades but master of none\"__"
   ]
  },
  {
   "cell_type": "code",
   "execution_count": 9,
   "metadata": {},
   "outputs": [
    {
     "name": "stdout",
     "output_type": "stream",
     "text": [
      "['J', 'o', 'a', 't', 'b', 'm', 'o', 'n']\n"
     ]
    }
   ],
   "source": [
    "text = \"Jack of all trades but master of none\"\n",
    "words = text.split(\" \")\n",
    "extracted = [word[0] for word in words]\n",
    "print(extracted)"
   ]
  },
  {
   "cell_type": "markdown",
   "metadata": {},
   "source": [
    "Write a Python program to remove the duplicate elements in the list but preserve the order. <br>\n",
    "Eg: [2,3,5,4,2,3,8,4] should give an output [2,3,5,4,8]"
   ]
  },
  {
   "cell_type": "code",
   "execution_count": 10,
   "metadata": {},
   "outputs": [
    {
     "name": "stdout",
     "output_type": "stream",
     "text": [
      "[2, 3, 5, 4, 8]\n"
     ]
    }
   ],
   "source": [
    "def remove_dup(p_list):\n",
    "    result = []\n",
    "    for item in p_list:\n",
    "        if item not in result:\n",
    "            result.append(item)\n",
    "    return result\n",
    "\n",
    "\n",
    "in_list = [2,3,5,4,2,3,8,4]\n",
    "out_list = remove_dup(in_list)\n",
    "print(out_list)"
   ]
  },
  {
   "cell_type": "markdown",
   "metadata": {},
   "source": [
    "Write a Python program to solve the Fibonacci sequence using recursion. "
   ]
  },
  {
   "cell_type": "code",
   "execution_count": 11,
   "metadata": {},
   "outputs": [
    {
     "data": {
      "text/plain": [
       "55"
      ]
     },
     "execution_count": 11,
     "metadata": {},
     "output_type": "execute_result"
    }
   ],
   "source": [
    "def fibo(n):\n",
    "    if n == 0:\n",
    "        return 0\n",
    "    if n == 1: \n",
    "        return 1\n",
    "    return fibo(n-1) + fibo(n-2)\n",
    "\n",
    "\n",
    "fibo(10)"
   ]
  },
  {
   "cell_type": "markdown",
   "metadata": {},
   "source": [
    "Given an array of integers of size n, calculate the maximum sum of k consecutive elements in the array.\n",
    "* Input: [100, 200, 300, 400]; k = 2\n",
    "* Output: 700"
   ]
  },
  {
   "cell_type": "code",
   "execution_count": 12,
   "metadata": {},
   "outputs": [
    {
     "data": {
      "text/plain": [
       "700"
      ]
     },
     "execution_count": 12,
     "metadata": {},
     "output_type": "execute_result"
    }
   ],
   "source": [
    "def max_sum(arr, k):\n",
    "    max_sum = None\n",
    "    for i in range(len(arr)-k+1):\n",
    "        c_sum = 0\n",
    "        for j in range(k):\n",
    "            c_sum += arr[i+j]\n",
    "        \n",
    "        max_sum = (c_sum if not max_sum or c_sum > max_sum else max_sum)\n",
    "        \n",
    "    return max_sum\n",
    "\n",
    "array = [100, 200, 300, 400]\n",
    "max_sum(array, 2)"
   ]
  },
  {
   "cell_type": "markdown",
   "metadata": {},
   "source": [
    "Write a Python program to print a dictionary with keys are the names of the numbers between one and five (both included) and values are the cubes of the numbers. <br>\n",
    "Note: You should use a list to create the keys and create the dictionary using list comprehension."
   ]
  },
  {
   "cell_type": "code",
   "execution_count": 13,
   "metadata": {},
   "outputs": [
    {
     "name": "stdout",
     "output_type": "stream",
     "text": [
      "{'three': 27, 'two': 8, 'four': 64, 'five': 125, 'one': 1}\n"
     ]
    }
   ],
   "source": [
    "result_dict = {key:value for (key, value) \\\n",
    "               in zip(\"one,two,three,four,five\".split(\",\"), [x**3 for x in range(1, 6)])}\n",
    "print(result_dict)"
   ]
  },
  {
   "cell_type": "markdown",
   "metadata": {},
   "source": [
    "Write a program which accepts a sequence of comma separated 4 digit binary numbers as its input and then check whether they are divisible by 5 or not. The numbers that are divisible by 5 are to be printed in a comma separated sequence. <br>\n",
    "Example:<br>\n",
    "0110,1001,0100,1010<br>\n",
    "Then the output should be:<br>\n",
    "1010\n",
    "Hint: Look up how to convert from integer to binary/hex/oct in python"
   ]
  },
  {
   "cell_type": "code",
   "execution_count": 14,
   "metadata": {},
   "outputs": [
    {
     "name": "stdout",
     "output_type": "stream",
     "text": [
      "Input: 0110,1001,0100,1010\n",
      "1010\n"
     ]
    }
   ],
   "source": [
    "user_input = input(\"Input: \").split(\",\")\n",
    "num_list = [x for x in user_input if int(x, 2) % 5 == 0]\n",
    "print(*num_list)"
   ]
  },
  {
   "cell_type": "markdown",
   "metadata": {},
   "source": [
    "Write a python program to check whether a given number is an Armstrong number using a function. <br>\n",
    "Note : An Armstrong number is one whose sum of cubes of digits is equal to the number itself. Eg: 371"
   ]
  },
  {
   "cell_type": "code",
   "execution_count": 15,
   "metadata": {},
   "outputs": [
    {
     "data": {
      "text/plain": [
       "True"
      ]
     },
     "execution_count": 15,
     "metadata": {},
     "output_type": "execute_result"
    }
   ],
   "source": [
    "def is_armstrong(num):\n",
    "    sum_digit = functools.reduce(lambda x, y: int(x) + int(y)**3, list(str(num)), 0)\n",
    "    return sum_digit == num\n",
    "\n",
    "is_armstrong(371)"
   ]
  },
  {
   "cell_type": "markdown",
   "metadata": {},
   "source": [
    "Flatten a nested sequence into a single list of values. Note: the logic should work for any number of nested\n",
    "sequences.\n",
    "* Input: [1, 2, [3, 4, [5, 6], 7], 8]\n",
    "* Output: [1, 2, 3, 4, 5, 6, 7, 8]"
   ]
  },
  {
   "cell_type": "code",
   "execution_count": 16,
   "metadata": {},
   "outputs": [
    {
     "name": "stdout",
     "output_type": "stream",
     "text": [
      "[1, 2, 3, 4, 5, 6, 7, 8, 9, 10]\n"
     ]
    }
   ],
   "source": [
    "def flatten(p_list):\n",
    "    if not isinstance(p_list, list):\n",
    "        return [p_list]\n",
    "    if not any(isinstance(item, list) for item in p_list):\n",
    "        return list(p_list)\n",
    "    else:\n",
    "        return [i for j in p_list for i in flatten(j)]\n",
    "    \n",
    "    \n",
    "i_list = [1, 2, [3, 4, [5, 6], 7], 8, [[9, 10]]]\n",
    "o_list = flatten(i_list)\n",
    "print(o_list)  "
   ]
  },
  {
   "cell_type": "markdown",
   "metadata": {},
   "source": [
    "Write a python program to find if a number is Automorphic or not. <br>\n",
    "Note: A number is Automorphic if and only if its square ends with the same digit as itself. Eg: The number 25 has its square 625 ending with the same last digit."
   ]
  },
  {
   "cell_type": "code",
   "execution_count": 17,
   "metadata": {},
   "outputs": [
    {
     "data": {
      "text/plain": [
       "True"
      ]
     },
     "execution_count": 17,
     "metadata": {},
     "output_type": "execute_result"
    }
   ],
   "source": [
    "def is_automorphic(num):\n",
    "    squared = num ** 2\n",
    "    return str(squared)[-len(str(num)):] == str(num)\n",
    "\n",
    "\n",
    "is_automorphic(25)"
   ]
  },
  {
   "cell_type": "markdown",
   "metadata": {},
   "source": [
    "Write a program to sort the dictionary based on value in reverse order.\n",
    "data = {\"maths\":50, \"physics\":90, \"chemistry:\"80, \"english\":70, \"history\":85}\n",
    "Hint: Use itemgetter"
   ]
  },
  {
   "cell_type": "code",
   "execution_count": 18,
   "metadata": {},
   "outputs": [
    {
     "name": "stdout",
     "output_type": "stream",
     "text": [
      "[('physics', 90), ('history', 85), ('chemistry', 80), ('english', 70), ('maths', 50)]\n"
     ]
    }
   ],
   "source": [
    "data = {\"maths\":50, \"physics\":90, \"chemistry\":80, \"english\":70, \"history\":85}\n",
    "sorted_data = sorted(data.items(), key=itemgetter(1), reverse=True)\n",
    "print(sorted_data)"
   ]
  },
  {
   "cell_type": "markdown",
   "metadata": {},
   "source": [
    "Implement a switch case in python to display the following chocolate manufacturing company names when their corresponding chocolates are selected based on their capitals.\n",
    "kitkat - nestle <br>\n",
    "dairymilk - cadbury <br>\n",
    "kisses - hershley <br>\n",
    "raffaello - ferroro <br>\n",
    "kinderjoy - kinder <br>\n",
    "Hint : Switch case in python are implemented using dictionaries"
   ]
  },
  {
   "cell_type": "code",
   "execution_count": 19,
   "metadata": {},
   "outputs": [
    {
     "name": "stdout",
     "output_type": "stream",
     "text": [
      "kitkat - nestle\n",
      "\n",
      "dairymilk - cadbury\n",
      "\n",
      "kisses - hershley\n",
      "\n",
      "raffaello - ferroro\n",
      "\n",
      "kinderjoy - kinder\n",
      "\n"
     ]
    }
   ],
   "source": [
    "class Switcher:\n",
    "    \n",
    "    def __init__(self, cases_dict):\n",
    "        self.__cases_dict = cases_dict\n",
    "        \n",
    "    def switch(self, case):\n",
    "        return self.__cases_dict.get(case)\n",
    "\n",
    "\n",
    "choc_list = \"kitkat,dairymilk,kisses,raffaello,kinderjoy\".split(\",\")\n",
    "comp_list = \"nestle,cadbury,hershley,ferroro,kinder\".split(\",\")\n",
    "\n",
    "switcher = Switcher(dict(zip(choc_list, comp_list)))\n",
    "for c in choc_list:\n",
    "    print(\"{} - {}\\n\".format(c, switcher.switch(c)))"
   ]
  },
  {
   "cell_type": "markdown",
   "metadata": {},
   "source": [
    "Create a matrix $A = \\begin{bmatrix}1 & 2 & 3 \\\\4 & 5 & 6 \\end{bmatrix}$ and find its transpose using <br>\n",
    "1. List comprehension\n",
    "2. Zip"
   ]
  },
  {
   "cell_type": "code",
   "execution_count": 20,
   "metadata": {},
   "outputs": [
    {
     "name": "stdout",
     "output_type": "stream",
     "text": [
      "[[1, 4], [2, 5], [3, 6]]\n",
      "[[1, 4], [2, 5], [3, 6]]\n"
     ]
    }
   ],
   "source": [
    "A = [[1, 2, 3], [4, 5, 6]]\n",
    "\n",
    "lc_transposed_A = [[A[i][j]  for i in range(len(A))] for j in range(len(A[0]))] if A else []\n",
    "zp_transposed_A = list(map(list, zip(*A)))\n",
    "\n",
    "print(lc_transposed_A)\n",
    "print(zp_transposed_A)"
   ]
  },
  {
   "cell_type": "markdown",
   "metadata": {},
   "source": [
    "Write a program to find the largest N items in a list?\n",
    "* Input: [1, 8, 2, 23, 7, -4, 18, 23, 42, 37, 2] and 3 (N)\n",
    "* Output: [42, 37, 23]"
   ]
  },
  {
   "cell_type": "code",
   "execution_count": 21,
   "metadata": {},
   "outputs": [
    {
     "name": "stdout",
     "output_type": "stream",
     "text": [
      "[42, 37, 23]\n"
     ]
    }
   ],
   "source": [
    "def largest_n(in_list, n):\n",
    "    return sorted(list(set(in_list)), reverse=True)[:n]\n",
    "    \n",
    "    \n",
    "in_list = [1, 8, 2, 23, 7, -4, 18, 23, 42, 37, 2]\n",
    "out_list = largest_n(in_list, 3)\n",
    "\n",
    "print(out_list)"
   ]
  },
  {
   "cell_type": "markdown",
   "metadata": {},
   "source": [
    "Write a sigmoid function which takes a matrix (x) as input and outputs a matrix. The formula for sigmoid\n",
    "function is $\\frac{1}{1+e^{-x}}$<br>\n",
    "$X = \\begin{bmatrix}10 & 20 & 30 \\\\4 & 5 & 6 \\end{bmatrix}$ <br>\n",
    "Note: Please DO NOT use numpy."
   ]
  },
  {
   "cell_type": "code",
   "execution_count": 22,
   "metadata": {},
   "outputs": [
    {
     "name": "stdout",
     "output_type": "stream",
     "text": [
      "[[0.9999546021312976, 0.9999999979388463, 0.9999999999999065], [0.9820137900379085, 0.9933071490757153, 0.9975273768433653]]\n"
     ]
    }
   ],
   "source": [
    "def sigmoid(X):\n",
    "    scalar_sig = lambda x : 1 / (1 + math.exp(-x))\n",
    "    if isinstance(X, (list, tuple)) :\n",
    "        return type(X)(sigmoid(x) for x in X)\n",
    "    else:\n",
    "        return scalar_sig(X)\n",
    "    \n",
    "    \n",
    "X = [[10, 20, 30], [4, 5, 6]]\n",
    "Y = sigmoid(X)\n",
    "print(Y)"
   ]
  },
  {
   "cell_type": "markdown",
   "metadata": {},
   "source": [
    "Simulate a fast-food ordering scenario by defining four classes <br>\n",
    "* Lunch: A container and controller class\n",
    "* Customer: The actor who buys food\n",
    "* Employee: The actor from whom a customer orders\n",
    "* Food: What the customer buys <br> <br>\n",
    "The order simulation should work as follows<br>\n",
    "\n",
    "1.The Lunch class’s constructor should make and embed an instance of Customer and an instance of\n",
    "Employee, and it should export a method called order. When called, this order method should ask the\n",
    "Customer to place an order by calling its place_order method. The Customer’s place_order method\n",
    "should in turn ask the Employee object for a new Food object by calling Employee’s take_order method. <br>\n",
    "2.Food objects should store a food name string (e.g., “dosa”), passed down from Lunch.order, to\n",
    "Customer.place_order, to Employee.take_order, and finally to Food’s constructor. The top-level Lunch\n",
    "class should also export a method called result, which asks the customer to print the name of the food\n",
    "it received from the Employee via the order (this can be used to test your simulation)."
   ]
  },
  {
   "cell_type": "code",
   "execution_count": 23,
   "metadata": {},
   "outputs": [
    {
     "name": "stdout",
     "output_type": "stream",
     "text": [
      "Food received: dosa\n"
     ]
    }
   ],
   "source": [
    "class Lunch:\n",
    "    \n",
    "    def __init__(self, customer, employee):\n",
    "        self.__customer = customer\n",
    "        self.__employee = employee\n",
    "    \n",
    "    \n",
    "    def order(self, food_name):\n",
    "        self.__customer.place_order(self.__employee, food_name)\n",
    "        \n",
    "        \n",
    "    def result(self):    \n",
    "        self.__customer.print_food()\n",
    "        \n",
    "        \n",
    "class Customer:\n",
    "    \n",
    "    def __init__(self):\n",
    "        self.__food = None\n",
    "    \n",
    "    \n",
    "    def place_order(self, employee, food_name):\n",
    "        self.__food = employee.take_order(food_name)\n",
    "        \n",
    "    \n",
    "    def print_food(self):\n",
    "        if not self.__food:\n",
    "            print(\"No food received\")\n",
    "        elif not isinstance(self.__food, Food):\n",
    "            print(\"Unknown food received\")\n",
    "        else:\n",
    "            print(\"Food received: {}\".format(self.__food.get_name()))\n",
    "        \n",
    "        \n",
    "class Employee:\n",
    "    \n",
    "    def __init__(self):\n",
    "        pass\n",
    "    \n",
    "    \n",
    "    def take_order(self, food_name):\n",
    "        return Food(food_name)\n",
    "    \n",
    "    \n",
    "class Food:\n",
    "    \n",
    "    def __init__(self, name):\n",
    "        self.__name = name\n",
    "       \n",
    "    \n",
    "    def get_name(self):\n",
    "        return self.__name\n",
    "    \n",
    "    \n",
    "employee = Employee()\n",
    "customer = Customer()\n",
    "lunch = Lunch(customer, employee)\n",
    "lunch.order(\"dosa\")\n",
    "lunch.result()\n",
    "        \n",
    "        "
   ]
  }
 ],
 "metadata": {
  "kernelspec": {
   "display_name": "Python 3.5.2 64-bit",
   "language": "python",
   "name": "python35264bit39e9999cf3084defa54ade5588e39f2a"
  },
  "language_info": {
   "codemirror_mode": {
    "name": "ipython",
    "version": 3
   },
   "file_extension": ".py",
   "mimetype": "text/x-python",
   "name": "python",
   "nbconvert_exporter": "python",
   "pygments_lexer": "ipython3",
   "version": "3.5.2"
  }
 },
 "nbformat": 4,
 "nbformat_minor": 4
}
